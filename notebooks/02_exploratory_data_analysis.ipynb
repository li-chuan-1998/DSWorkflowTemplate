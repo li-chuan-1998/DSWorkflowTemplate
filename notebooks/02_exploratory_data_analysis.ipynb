{
 "cells": [
  {
   "cell_type": "markdown",
   "id": "eaba8bce",
   "metadata": {},
   "source": [
    "# Exploratory Data Analysis"
   ]
  },
  {
   "cell_type": "code",
   "execution_count": null,
   "id": "166b9e6a",
   "metadata": {},
   "outputs": [],
   "source": [
    "import pandas as pd\n",
    "import numpy as np\n",
    "import matplotlib.pyplot as plt\n",
    "import seaborn as sns\n",
    "\n",
    "from src.notebook.pandas_utils import display_dfs, get_dfs_info, read_file"
   ]
  },
  {
   "cell_type": "markdown",
   "id": "06e662df",
   "metadata": {},
   "source": [
    "## Summary Statistics"
   ]
  },
  {
   "cell_type": "code",
   "execution_count": null,
   "id": "1fffd60a",
   "metadata": {},
   "outputs": [],
   "source": [
    "file_path = 'PATH'\n",
    "df = read_file(file_path)\n",
    "\n",
    "# Display Basic Information\n",
    "display_dfs({'Summary': get_dfs_info(df), 'Df Describe': df.describe()})"
   ]
  },
  {
   "cell_type": "markdown",
   "id": "360ee50a",
   "metadata": {},
   "source": [
    "## Univariate Analysis"
   ]
  },
  {
   "cell_type": "code",
   "execution_count": null,
   "id": "16ff205c",
   "metadata": {},
   "outputs": [],
   "source": [
    "# Histogram for a numerical variable\n",
    "plt.figure(figsize=(10, 6))\n",
    "sns.histplot(df['numerical_variable'], kde=True)\n",
    "plt.title('Distribution of Numerical Variable')\n",
    "plt.xlabel('Numerical Variable')\n",
    "plt.ylabel('Frequency')\n",
    "plt.show()\n",
    "\n",
    "# Count plot for a categorical variable\n",
    "plt.figure(figsize=(10, 6))\n",
    "sns.countplot(x='categorical_variable', data=df)\n",
    "plt.title('Distribution of Categorical Variable')\n",
    "plt.xlabel('Categorical Variable')\n",
    "plt.ylabel('Count')\n",
    "plt.xticks(rotation=45)\n",
    "plt.show()"
   ]
  },
  {
   "cell_type": "markdown",
   "id": "5ddbbb22",
   "metadata": {},
   "source": [
    "## Bivariate/Multivariate Analysis"
   ]
  },
  {
   "cell_type": "code",
   "execution_count": null,
   "id": "0f66c477",
   "metadata": {},
   "outputs": [],
   "source": [
    "plt.figure(figsize=(10, 8))\n",
    "sns.heatmap(df.corr(), annot=True, fmt=\".2f\", cmap='coolwarm')\n",
    "plt.title('Correlation Heatmap')\n",
    "plt.show()"
   ]
  },
  {
   "cell_type": "code",
   "execution_count": null,
   "id": "5b1c36ef",
   "metadata": {},
   "outputs": [],
   "source": [
    "plt.figure(figsize=(10, 6))\n",
    "sns.scatterplot(x='numerical_variable_1', y='numerical_variable_2', data=df)\n",
    "plt.title('Relationship between Two Numerical Variables')\n",
    "plt.xlabel('Numerical Variable 1')\n",
    "plt.ylabel('Numerical Variable 2')\n",
    "plt.show()"
   ]
  },
  {
   "cell_type": "code",
   "execution_count": null,
   "id": "95f85093",
   "metadata": {},
   "outputs": [],
   "source": [
    "# Selecting a subset of variables to avoid clutter\n",
    "subset_df = df[['numerical_variable_1', 'numerical_variable_2', 'categorical_variable']]\n",
    "sns.pairplot(subset_df, hue='categorical_variable')\n",
    "plt.show()"
   ]
  },
  {
   "cell_type": "markdown",
   "id": "e2e92fa6",
   "metadata": {},
   "source": [
    "## Detecting and Handling Outliers"
   ]
  },
  {
   "cell_type": "code",
   "execution_count": null,
   "id": "b3892a68",
   "metadata": {},
   "outputs": [],
   "source": [
    "\"\"\"Visualizing Outliers\"\"\"\n",
    "# Boxplot\n",
    "plt.figure(figsize=(10, 6))\n",
    "sns.boxplot(x=df['column_name'])\n",
    "plt.title('Box Plot for Detecting Outliers in Numerical Variable')\n",
    "plt.show()\n",
    "\n",
    "# Scatter plot (if you have a second variable 'y')\n",
    "plt.scatter(df['column_name'], df['y'])\n",
    "plt.show()"
   ]
  },
  {
   "cell_type": "code",
   "execution_count": null,
   "id": "ffc73d5d",
   "metadata": {},
   "outputs": [],
   "source": [
    "\"\"\"Detecting Outliers with Statistical Methods (Interquartile Range)\"\"\"\n",
    "Q1 = df['column_name'].quantile(0.25)\n",
    "Q3 = df['column_name'].quantile(0.75)\n",
    "IQR = Q3 - Q1\n",
    "lower_bound = Q1 - 1.5 * IQR\n",
    "upper_bound = Q3 + 1.5 * IQR\n",
    "\n",
    "outliers = df[(df['numerical_variable'] < lower_bound) | (df['numerical_variable'] > upper_bound)]\n",
    "print(f\"Number of outliers in 'numerical_variable': {outliers.shape[0]}\")\n",
    "\n",
    "\n",
    "\"\"\"Handling Outliers\"\"\"\n",
    "# Removing outliers\n",
    "df_no_outliers = df[~((df['column_name'] < (lower_bound)) | (df['column_name'] > (upper_bound)))]\n",
    "\n",
    "# Capping outliers\n",
    "df['column_name'] = np.where(df['column_name'] < (lower_bound), lower_bound, df['column_name'])\n",
    "df['column_name'] = np.where(df['column_name'] > (upper_bound), upper_bound, df['column_name'])"
   ]
  },
  {
   "cell_type": "markdown",
   "id": "60406f7b",
   "metadata": {},
   "source": [
    "## Identifying Patterns"
   ]
  },
  {
   "cell_type": "markdown",
   "id": "948d3b72",
   "metadata": {},
   "source": [
    "## Preliminary Hypothesis Testing"
   ]
  },
  {
   "cell_type": "markdown",
   "id": "c56e58f2",
   "metadata": {},
   "source": [
    "## Summary of Insights"
   ]
  }
 ],
 "metadata": {
  "kernelspec": {
   "display_name": "ml",
   "language": "python",
   "name": "python3"
  },
  "language_info": {
   "name": "python",
   "version": "3.9.18"
  }
 },
 "nbformat": 4,
 "nbformat_minor": 5
}
