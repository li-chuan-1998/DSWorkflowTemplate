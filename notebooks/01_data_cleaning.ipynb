{
 "cells": [
  {
   "cell_type": "markdown",
   "id": "a4356f3c",
   "metadata": {},
   "source": [
    "# Data Cleaning"
   ]
  },
  {
   "cell_type": "code",
   "execution_count": 1,
   "id": "8106d082",
   "metadata": {},
   "outputs": [],
   "source": [
    "import pandas as pd\n",
    "import numpy as np\n",
    "import matplotlib.pyplot as plt\n",
    "import seaborn as sns\n",
    "import os\n",
    "\n",
    "os.chdir('../')\n",
    "\n",
    "from src.notebook.pandas_utils import display_dfs, get_dfs_info, read_file, save"
   ]
  },
  {
   "cell_type": "markdown",
   "id": "6d89c7e7",
   "metadata": {},
   "source": [
    "## Initial Data Inspection"
   ]
  },
  {
   "cell_type": "code",
   "execution_count": null,
   "id": "835132df",
   "metadata": {},
   "outputs": [],
   "source": [
    "file_path = 'PATH'\n",
    "df = read_file(file_path)\n",
    "\n",
    "# Display Basic Information\n",
    "display_dfs({'Summary': get_dfs_info(df), 'Info': df.info(), 'Sample':df.sample(5)})"
   ]
  },
  {
   "cell_type": "markdown",
   "id": "8c0e1cc4",
   "metadata": {},
   "source": [
    "## Handling Missing Values"
   ]
  },
  {
   "cell_type": "code",
   "execution_count": null,
   "id": "40501e2b",
   "metadata": {},
   "outputs": [],
   "source": [
    "\"\"\"Option 1: Removing Missing Values\"\"\"\n",
    "# Remove rows with missing values\n",
    "df_cleaned = df.dropna()\n",
    "\n",
    "# Remove columns with missing values\n",
    "df_cleaned_columns = df.dropna(axis=1)\n",
    "\n",
    "\"\"\"Option 2: Imputation\"\"\"\n",
    "# Mean value imputation\n",
    "df_filled_mean = df.fillna(df.mean())\n",
    "\n",
    "# Median value imputation\n",
    "df_filled_median = df.fillna(df.median())\n",
    "\n",
    "# Mode value imputation (for categorical variables)\n",
    "df_filled_mode = df.fillna(df.mode().iloc[0])\n",
    "\n",
    "# Replace missing values with a constant\n",
    "df_filled_constant = df.fillna('constant_value')\n",
    "\n",
    "\"\"\"Option 3: Using Algorithms that Support Missing Values\"\"\"\n",
    "# Some machine learning algorithms can handle missing values internally. For example, decision trees and random forests can manage missing values without requiring any preliminary filling or removing.\n",
    "\n",
    "\"\"\"Option 4: Imputation Using More Complex Methods\"\"\"\n",
    "# Example: KNN imputation (Not directly available in pandas, requires scikit-learn)\n",
    "from sklearn.impute import KNNImputer\n",
    "\n",
    "imputer = KNNImputer(n_neighbors=5)\n",
    "df_filled_knn = pd.DataFrame(imputer.fit_transform(df), columns=df.columns)"
   ]
  },
  {
   "cell_type": "markdown",
   "id": "4a363a02",
   "metadata": {},
   "source": [
    "## Data Type Corrections"
   ]
  },
  {
   "cell_type": "code",
   "execution_count": null,
   "id": "ac67eecf",
   "metadata": {},
   "outputs": [],
   "source": [
    "# Convert a column to common types\n",
    "df['column_name'] = df['column_name'].astype(float) # int, str, 'category'\n",
    "\n",
    "# Convert a column to datetime\n",
    "df['date_column'] = pd.to_datetime(df['date_column'])\n",
    "\n",
    "# Specify the date format for faster parsing\n",
    "df['date_column'] = pd.to_datetime(df['date_column'], format='%Y-%m-%d')"
   ]
  },
  {
   "cell_type": "markdown",
   "id": "27dfdd84",
   "metadata": {},
   "source": [
    "## Detecting and Handling Outliers"
   ]
  },
  {
   "cell_type": "code",
   "execution_count": null,
   "id": "4589a670",
   "metadata": {},
   "outputs": [],
   "source": [
    "\"\"\"Option 1: Detecting Outliers with Statistical Methods (Interquartile Range)\"\"\"\n",
    "Q1 = df['column_name'].quantile(0.25)\n",
    "Q3 = df['column_name'].quantile(0.75)\n",
    "IQR = Q3 - Q1\n",
    "\n",
    "# Identifying outliers\n",
    "outliers = df[(df['column_name'] < (Q1 - 1.5 * IQR)) | (df['column_name'] > (Q3 + 1.5 * IQR))]\n",
    "\n",
    "\"\"\"Option 2: Visualizing Outliers\"\"\"\n",
    "# Boxplot\n",
    "sns.boxplot(x=df['column_name'])\n",
    "plt.show()\n",
    "\n",
    "# Scatter plot (if you have a second variable 'y')\n",
    "plt.scatter(df['column_name'], df['y'])\n",
    "plt.show()\n",
    "\n",
    "\"\"\"Option 3: Handling Outliers\"\"\"\n",
    "# Removing outliers\n",
    "df_no_outliers = df[~((df['column_name'] < (Q1 - 1.5 * IQR)) | (df['column_name'] > (Q3 + 1.5 * IQR)))]\n",
    "\n",
    "# Capping outliers\n",
    "df['column_name'] = np.where(df['column_name'] < (Q1 - 1.5 * IQR), Q1 - 1.5 * IQR, df['column_name'])\n",
    "df['column_name'] = np.where(df['column_name'] > (Q3 + 1.5 * IQR), Q3 + 1.5 * IQR, df['column_name'])"
   ]
  },
  {
   "cell_type": "markdown",
   "id": "92cf6c95",
   "metadata": {},
   "source": [
    "## Renaming Columns/Standardization"
   ]
  },
  {
   "cell_type": "code",
   "execution_count": null,
   "id": "d36fd427",
   "metadata": {},
   "outputs": [],
   "source": [
    "df = df.rename(columns={\"A\": \"a\", \"B\": \"c\"}, errors=\"raise\")"
   ]
  },
  {
   "cell_type": "markdown",
   "id": "a41d126b",
   "metadata": {},
   "source": [
    "## De-duplication"
   ]
  },
  {
   "cell_type": "code",
   "execution_count": null,
   "id": "7d0f7e14",
   "metadata": {},
   "outputs": [],
   "source": [
    "df = df.drop_duplicates()"
   ]
  },
  {
   "cell_type": "markdown",
   "id": "4e79aa18",
   "metadata": {},
   "source": [
    "## Saving the Cleaned Dataset"
   ]
  },
  {
   "cell_type": "code",
   "execution_count": 2,
   "id": "0479e276",
   "metadata": {},
   "outputs": [
    {
     "name": "stdout",
     "output_type": "stream",
     "text": [
      "Data saved at data/interim/.\n"
     ]
    }
   ],
   "source": [
    "save(df, \"cleaned.csv\")"
   ]
  }
 ],
 "metadata": {
  "kernelspec": {
   "display_name": "ml",
   "language": "python",
   "name": "python3"
  },
  "language_info": {
   "codemirror_mode": {
    "name": "ipython",
    "version": 3
   },
   "file_extension": ".py",
   "mimetype": "text/x-python",
   "name": "python",
   "nbconvert_exporter": "python",
   "pygments_lexer": "ipython3",
   "version": "3.9.19"
  }
 },
 "nbformat": 4,
 "nbformat_minor": 5
}
