{
 "cells": [
  {
   "cell_type": "markdown",
   "id": "a4356f3c",
   "metadata": {},
   "source": [
    "# Data Cleaning"
   ]
  },
  {
   "cell_type": "code",
   "execution_count": null,
   "id": "8106d082",
   "metadata": {},
   "outputs": [],
   "source": [
    "import pandas as pd\n",
    "import numpy as np\n",
    "from src.notebook.utils import display_dfs\n",
    "\n"
   ]
  },
  {
   "cell_type": "markdown",
   "id": "6d89c7e7",
   "metadata": {},
   "source": [
    "## Initial Data Inspection"
   ]
  },
  {
   "cell_type": "code",
   "execution_count": null,
   "id": "835132df",
   "metadata": {},
   "outputs": [],
   "source": [
    "\n",
    "df = pd.read_csv('path_to_your_dataset.csv')\n",
    "\n",
    "# Display Basic Information\n",
    "print(df.info())\n",
    "print(df.shape)\n",
    "\n",
    "# Display the first few rows of the dataset\n",
    "print(df.head())\n",
    "display_dfs()"
   ]
  },
  {
   "cell_type": "markdown",
   "id": "8c0e1cc4",
   "metadata": {},
   "source": [
    "## Handling Missing Values"
   ]
  },
  {
   "cell_type": "markdown",
   "id": "4a363a02",
   "metadata": {},
   "source": [
    "## Data Type Corrections"
   ]
  },
  {
   "cell_type": "markdown",
   "id": "27dfdd84",
   "metadata": {},
   "source": [
    "## Detecting and Handling Outliers"
   ]
  },
  {
   "cell_type": "markdown",
   "id": "92cf6c95",
   "metadata": {},
   "source": [
    "## Renaming Columns/Standardization"
   ]
  },
  {
   "cell_type": "markdown",
   "id": "a41d126b",
   "metadata": {},
   "source": [
    "## De-duplication"
   ]
  },
  {
   "cell_type": "markdown",
   "id": "4e79aa18",
   "metadata": {},
   "source": [
    "## Saving the Cleaned Dataset"
   ]
  }
 ],
 "metadata": {
  "kernelspec": {
   "display_name": "ml",
   "language": "python",
   "name": "python3"
  },
  "language_info": {
   "name": "python",
   "version": "3.9.19"
  }
 },
 "nbformat": 4,
 "nbformat_minor": 5
}
